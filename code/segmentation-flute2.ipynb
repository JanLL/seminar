{
 "cells": [
  {
   "cell_type": "code",
   "execution_count": 5,
   "metadata": {
    "collapsed": false
   },
   "outputs": [],
   "source": [
    "import numpy as np\n",
    "import matplotlib.pyplot as plt\n",
    "%matplotlib inline\n",
    "\n",
    "import opengm"
   ]
  },
  {
   "cell_type": "code",
   "execution_count": 6,
   "metadata": {
    "collapsed": true
   },
   "outputs": [],
   "source": [
    "# convert RGB to luminance image\n",
    "def rgb2bw(img):\n",
    "    return 0.2126*img[...,0] + 0.7152*img[..., 1] + 0.0722*img[..., 2]"
   ]
  },
  {
   "cell_type": "code",
   "execution_count": 13,
   "metadata": {
    "collapsed": false
   },
   "outputs": [
    {
     "data": {
      "text/plain": [
       "'\\nfig = plt.figure(figsize=(20,15))\\nax1 = fig.add_subplot(311)\\nax1.imshow(img[:,:,0])\\n\\nax2 = fig.add_subplot(312)\\nax2.imshow(img[:,:,1])\\n\\nax3 = fig.add_subplot(313)\\nax3.imshow(img[:,:,2])\\n'"
      ]
     },
     "execution_count": 13,
     "metadata": {},
     "output_type": "execute_result"
    }
   ],
   "source": [
    "img = plt.imread('flute2.jpg')\n",
    "img = rgb2bw(img)\n",
    "\n",
    "dimx = img.shape[1]\n",
    "dimy = img.shape[0]\n",
    "numLabels = 3\n",
    "numVar = dimx*dimy\n",
    "\n",
    "\n",
    "\n",
    "'''\n",
    "fig = plt.figure(figsize=(20,15))\n",
    "ax1 = fig.add_subplot(311)\n",
    "ax1.imshow(img[:,:,0])\n",
    "\n",
    "ax2 = fig.add_subplot(312)\n",
    "ax2.imshow(img[:,:,1])\n",
    "\n",
    "ax3 = fig.add_subplot(313)\n",
    "ax3.imshow(img[:,:,2])\n",
    "'''"
   ]
  },
  {
   "cell_type": "code",
   "execution_count": 14,
   "metadata": {
    "collapsed": false
   },
   "outputs": [],
   "source": [
    "# Building up graphical model\n",
    "\n",
    "numberOfStates = np.ones(numVar, dtype=opengm.index_type)*numLabels\n",
    "gm = opengm.graphicalModel(numberOfStates, operator='adder')\n",
    "\n",
    "varIndex = lambda x, y: x*dimy + y"
   ]
  },
  {
   "cell_type": "code",
   "execution_count": 29,
   "metadata": {
    "collapsed": false
   },
   "outputs": [],
   "source": [
    "# unary factors\n",
    "\n",
    "metal_average = 210\n",
    "black_average = 30.\n",
    "bg_average = 255.\n",
    "\n",
    "for y in range(dimy):\n",
    "    for x in range(dimx):\n",
    "        fid = gm.addFunction(np.array(\n",
    "                [np.abs(metal_average - img[y, x]),\n",
    "                 np.abs(black_average - img[y, x]),\n",
    "                 np.abs(bg_average - img[y,x])]))\n",
    "        gm.addFactor(fid, varIndex(x, y))\n"
   ]
  },
  {
   "cell_type": "code",
   "execution_count": 30,
   "metadata": {
    "collapsed": false
   },
   "outputs": [],
   "source": [
    "solver = opengm.inference.AlphaExpansion(gm)\n",
    "solver.infer()\n",
    "argmin = solver.arg()\n",
    "segm_unaryOnly = argmin.reshape(dimx,dimy).transpose()"
   ]
  },
  {
   "cell_type": "code",
   "execution_count": 31,
   "metadata": {
    "collapsed": false
   },
   "outputs": [],
   "source": [
    "# smoothness factors\n",
    "\n",
    "C = 60.\n",
    "f = (np.eye(3)-1)*(-C)\n",
    "\n",
    "\n",
    "fid = gm.addFunction(f)\n",
    "\n",
    "for y in range(dimy):\n",
    "    for x in range(dimx):\n",
    "        if (x+1 < dimx):\n",
    "            gm.addFactor(fid, [varIndex(x,y), varIndex(x+1,y)])\n",
    "        if (y+1 < dimy):\n",
    "            gm.addFactor(fid, [varIndex(x,y), varIndex(x,y+1)])\n",
    "            \n"
   ]
  },
  {
   "cell_type": "code",
   "execution_count": 32,
   "metadata": {
    "collapsed": false
   },
   "outputs": [],
   "source": [
    "solver = opengm.inference.AlphaExpansion(gm)\n",
    "solver.infer()\n",
    "argmin = solver.arg()\n",
    "segm_smooth = argmin.reshape(dimx,dimy).transpose()"
   ]
  },
  {
   "cell_type": "code",
   "execution_count": 33,
   "metadata": {
    "collapsed": false
   },
   "outputs": [
    {
     "data": {
      "text/plain": [
       "<matplotlib.image.AxesImage at 0x7faf3f474710>"
      ]
     },
     "execution_count": 33,
     "metadata": {},
     "output_type": "execute_result"
    },
    {
     "data": {
      "image/png": "[encoded data removed]",
      "text/plain": [
       "<matplotlib.figure.Figure at 0x7faf3f5deb50>"
      ]
     },
     "metadata": {},
     "output_type": "display_data"
    }
   ],
   "source": [
    "fig = plt.figure(figsize=(12,12))\n",
    "ax1 = fig.add_subplot(121)\n",
    "ax1.imshow(segm_unaryOnly)\n",
    "\n",
    "ax2 = fig.add_subplot(122)\n",
    "ax2.imshow(segm_smooth)"
   ]
  },
  {
   "cell_type": "code",
   "execution_count": null,
   "metadata": {
    "collapsed": true
   },
   "outputs": [],
   "source": []
  },
  {
   "cell_type": "code",
   "execution_count": null,
   "metadata": {
    "collapsed": true
   },
   "outputs": [],
   "source": []
  }
 ],
 "metadata": {
  "kernelspec": {
   "display_name": "Python 2",
   "language": "python",
   "name": "python2"
  },
  "language_info": {
   "codemirror_mode": {
    "name": "ipython",
    "version": 2
   },
   "file_extension": ".py",
   "mimetype": "text/x-python",
   "name": "python",
   "nbconvert_exporter": "python",
   "pygments_lexer": "ipython2",
   "version": "2.7.6"
  }
 },
 "nbformat": 4,
 "nbformat_minor": 0
}
